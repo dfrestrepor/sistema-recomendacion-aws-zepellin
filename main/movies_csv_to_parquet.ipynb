{
 "cells": [
  {
   "cell_type": "code",
   "execution_count": null,
   "metadata": {},
   "outputs": [],
   "source": [
    "\n",
    "from pyspark.sql import SparkSession\n",
    "\n",
    "\n",
    "def main():\n",
    "    #args = parse_args()\n",
    "\n",
    "    spark = SparkSession \\\n",
    "        .builder \\\n",
    "        .appName(\"movie-ratings-csv-to-parquet\") \\\n",
    "        .getOrCreate()\n",
    "\n",
    "    for file in [\"credits\", \"keywords\", \"links\", \"links_small\", \"movies_metadata\", \"ratings\", \"ratings_small\"]:\n",
    "        convert_to_parquet(spark, file)\n",
    "\n",
    "\n",
    "def convert_to_parquet(spark, file):\n",
    "    df = spark.read \\\n",
    "        .format(\"csv\") \\\n",
    "        .option(\"header\", \"true\") \\\n",
    "        .option(\"delimiter\", \",\") \\\n",
    "        .option(\"inferSchema\", \"true\") \\\n",
    "        .load(f\"s3://S3-data-emr-motor/{file}.csv\")\n",
    "\n",
    "    df.write \\\n",
    "        .format(\"parquet\") \\\n",
    "        .save(f\"s3://S3-data-emr-motor/movies_parquet/{file}/\", mode=\"overwrite\")\n",
    "\n",
    "\n",
    "if __name__ == \"__main__\":\n",
    "    main()\n",
    "\n",
    "\n"
   ]
  }
 ],
 "metadata": {
  "kernelspec": {
   "display_name": "Python 3",
   "language": "python",
   "name": "python3"
  },
  "language_info": {
   "codemirror_mode": {
    "name": "ipython",
    "version": 3
   },
   "file_extension": ".py",
   "mimetype": "text/x-python",
   "name": "python",
   "nbconvert_exporter": "python",
   "pygments_lexer": "ipython3",
   "version": "3.7.3"
  }
 },
 "nbformat": 4,
 "nbformat_minor": 4
}
